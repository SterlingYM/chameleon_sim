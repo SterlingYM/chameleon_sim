{
 "cells": [
  {
   "cell_type": "markdown",
   "metadata": {},
   "source": [
    "# Chameleon 3D simulation (I)\n",
    "For meeting 3/18/2020 & 3/23/2020.\n",
    "\n",
    "Yukei Murakami, UCB : sterling@astro.berkeley.edu\n",
    "\n",
    "---------------------------------------\n",
    "\n",
    "Goals:\n",
    "- Learn the procedure for 3D simulation\n",
    "- Build a template of the Chameleon field simulation\n",
    "- Confirm this method works (comparison vs. Elder et al. 2016)\n",
    "- Connect to more general case"
   ]
  },
  {
   "cell_type": "markdown",
   "metadata": {},
   "source": [
    "### Quick Learning resources\n",
    "\n",
    "- [Fenics Project](https://fenicsproject.org/)<br>\n",
    "This project 100% relies on this pde solver core package.\n",
    "\n",
    "- [Fenics Tutorial](https://fenicsproject.org/pub/tutorial/html/ftut1.html)<br>\n",
    "Not the quickest way to learn, but very long and in-depth tutorial with lots of information.\n",
    "\n",
    "- [Fenics 2D Linear Poisson example](https://fenicsproject.org/docs/dolfin/1.6.0/python/demo/documented/poisson/python/documentation.html)<br>\n",
    "Note that there are multiple versions of documentations available online. Currently Dolfin (interface module for Fenics) 1.6.0 is the newest version in March 2020. The version of the documentation can be checked with the version number printed on the left-top corner.\n",
    "\n",
    "- [Blog article about Electrostatic sim with Fenics](https://comphysblog.wordpress.com/2018/08/26/3d-electrostatics-using-fenics/)<br>\n",
    "Best blog article for the beginner of Fenics 3D simulation. I initially built a copy of this sample code, and modified parts by parts to learn how it works.\n",
    "\n",
    "- [Fenics online forum](https://fenicsproject.discourse.group/)<br>\n",
    "Very active. Quickest way to get your question answered as long as you follow the rule.\n",
    "\n",
    "- [Variational Formulation of elliptic PDEs](https://www.ljll.math.upmc.fr/ledret/M1English/M1ApproxPDE_Chapter3.pdf)<br>\n",
    "Technical, but good for learning. Just reading the first few pages is a good way to start learning about this technique."
   ]
  },
  {
   "cell_type": "markdown",
   "metadata": {},
   "source": [
    "### References\n",
    "\n",
    "- [Chameleon Dark Energy and Atom Interferometry (Elder et al. 2016)](https://arxiv.org/abs/1603.06587)\n",
    "- [Atom-interferometry constraints on dark energy\n",
    " (Hamilton et al. 2015)](https://arxiv.org/abs/1502.03888)"
   ]
  },
  {
   "cell_type": "markdown",
   "metadata": {},
   "source": [
    "## (I) PDE solver core: Fenics\n",
    "\n",
    "Fenics is an open-source pde solver mainly developed for the finite element analysis. It runs c++ code wrapped by python package. The documentation is sometimes outdated and confusing, but the online forum is very active and main developers (researchers at Cambridge University) typically answer to any reasonable question within a day."
   ]
  },
  {
   "cell_type": "code",
   "execution_count": 13,
   "metadata": {},
   "outputs": [],
   "source": [
    "import fenics as fn\n",
    "import numpy as np\n",
    "import matplotlib.pyplot as plt\n",
    "import seaborn as sns\n",
    "sns.set()"
   ]
  },
  {
   "cell_type": "markdown",
   "metadata": {},
   "source": [
    "## (II) Prepare mesh\n",
    "\n",
    "In this test example, we model the vacuum space between vacuum chamber and the test source. We set up the boundary condition at the surface. This is only valid for a very strong coupling (=the field reaches the equilibrium very quickly near the surface of heavy objects), and the full solution to the non-approximate model is presented in a separate notebook.\n",
    "\n",
    "### 3D Modeling: FreeCAD\n",
    "- open FreeCAD (```$freecad```)\n",
    "- make 3D model\n",
    "- subtract objects to create single volume (in this example)\n",
    "- save as ```filename.step```\n",
    "\n",
    "### Generate Mesh: GMSH\n",
    "- open GMSH (```$gmsh```)\n",
    "- Geometry -> Physical groups -> add -> Surface/Volume: \n",
    "Assign physical groups (surfaces and a volume) for each boundary : make sure the assigned number is the index used for the boundary condition. In this case we assign surface #0 for outer sphere, surface #1 for inner sphere, and volume #3 for the volume (we only have one volume).\n",
    "- Mesh -> Define -> Transfinite -> Line: Define the number of vertex points along the line that defines the surface of sphere (blue curve).\n",
    "- Mesh -> 3D to generate mesh\n",
    "- save as ```filename.msh```\n",
    "\n",
    "### Finalize mesh: dolfin\n",
    "- ```$dolfin-convert filename.msh filename.xml``` : This will create three files (```*.xml```, ```*_physical_region.xml```, and ```*_facet_region.xml```).\n",
    "![](./mesh.png)"
   ]
  },
  {
   "cell_type": "markdown",
   "metadata": {},
   "source": [
    "### Import Mesh"
   ]
  },
  {
   "cell_type": "code",
   "execution_count": 14,
   "metadata": {},
   "outputs": [],
   "source": [
    "# Import the mesh, identify the subdomains and boundaries\n",
    "mesh       = fn.Mesh('models/geo2.xml')\n",
    "markers    = fn.MeshFunction(\"size_t\", mesh, 'models/geo2_physical_region.xml')\n",
    "boundaries = fn.MeshFunction('size_t', mesh, 'models/geo2_facet_region.xml')\n",
    "\n",
    "# Then make a function space and a dx element\n",
    "dx = fn.Measure('dx', domain=mesh, subdomain_data=markers)\n",
    "V = fn.FunctionSpace(mesh, 'CG', 1)"
   ]
  },
  {
   "cell_type": "markdown",
   "metadata": {},
   "source": [
    "# (III) Set up the simulator\n",
    "\n",
    "To perform the simulation, we need to:\n",
    "\n",
    "- (1) Define necessary parameters with proper scaling of units\n",
    "- (2) Set up boundary conditions\n",
    "- (3) Define pde to be solved\n",
    "- (4) Run\n",
    "- (5) Plot & check results."
   ]
  },
  {
   "cell_type": "markdown",
   "metadata": {},
   "source": [
    "## (III -1) Parameters"
   ]
  },
  {
   "cell_type": "markdown",
   "metadata": {},
   "source": [
    "$\\Lambda = 2.4\\ \\mathrm{meV} = 2.4 \\times 10^{-3}\\ \\mathrm{eV}$\n",
    "\n",
    "$M_{pl} = 2.4 \\times 10^{18}\\ \\mathrm{GeV} = 2.4 \\times 10^{27}\\ \\mathrm{eV}$\n",
    "\n",
    "$M \\approx 10^{-3}M_{pl}$"
   ]
  },
  {
   "cell_type": "markdown",
   "metadata": {},
   "source": [
    "$$\\frac{g}{cm^3} = \\frac{\\mathrm{kg}/1000}{(10\\mathrm{mm})^3} \n",
    "= \\frac{5.6\\times10^{32}\\ \\mathrm{eV}}{10^3 \\mathrm{mm}^3} \n",
    "= 5.6 \\times 10^{29} \\frac{\\mathrm{eV}}{\\mathrm{mm^3}} \n",
    "= 4.3*10^{18}\\ \\mathrm{eV}^4$$"
   ]
  },
  {
   "cell_type": "code",
   "execution_count": 15,
   "metadata": {},
   "outputs": [],
   "source": [
    "g_per_cm3_to_ev4 = 4.3 * 10**18"
   ]
  },
  {
   "cell_type": "code",
   "execution_count": 16,
   "metadata": {},
   "outputs": [],
   "source": [
    "Lambda = 0.1 * 10**-3 # [eV]\n",
    "Mpl    = 2.4 * 10**27 # [eV]\n",
    "M      = 10**-3 * Mpl"
   ]
  },
  {
   "cell_type": "code",
   "execution_count": 17,
   "metadata": {},
   "outputs": [],
   "source": [
    "rho_inner = 2.7 * g_per_cm3_to_ev4 \n",
    "rho_outer = 7   * g_per_cm3_to_ev4 \n",
    "rho_vacuum = 6.6 * 10**-17  * g_per_cm3_to_ev4\n",
    "\n",
    "inner_phi_eq = np.sqrt(Lambda**5 * M / rho_inner)\n",
    "outer_phi_eq = np.sqrt(Lambda**5 * M / rho_outer)"
   ]
  },
  {
   "cell_type": "markdown",
   "metadata": {},
   "source": [
    "Check the equilibrium value to see if it makes sense <br>\n",
    "(we expect $\\phi_{eq} \\lt 1\\mathrm{meV}$ for typical metal):"
   ]
  },
  {
   "cell_type": "code",
   "execution_count": 18,
   "metadata": {},
   "outputs": [
    {
     "name": "stdout",
     "output_type": "stream",
     "text": [
      "Equilibrium 𝜙 (inner sphere) = 4.55e-08 eV\n",
      "Equilibrium 𝜙 (outer sphere) = 2.82e-08 eV\n"
     ]
    }
   ],
   "source": [
    "print(\"Equilibrium 𝜙 (inner sphere) = {:.2e} eV\".format(inner_phi_eq)) #eV\n",
    "print(\"Equilibrium 𝜙 (outer sphere) = {:.2e} eV\".format(outer_phi_eq)) #eV"
   ]
  },
  {
   "cell_type": "markdown",
   "metadata": {},
   "source": [
    "## (III - 2) Add boundary conditions\n",
    "- two surfaces: inner and outer (indexed as 1 and 2)\n",
    "- give constant equilibrium value ($\\sqrt{\\Lambda^5M/\\rho}$) where $\\nabla^2\\phi=0$"
   ]
  },
  {
   "cell_type": "code",
   "execution_count": 19,
   "metadata": {},
   "outputs": [],
   "source": [
    "# Set the boundary conditions using the boundary numbers (index)\n",
    "# specified in Gmsh\n",
    "inner_boundary = fn.DirichletBC(V, fn.Constant(inner_phi_eq), boundaries, 1)\n",
    "outer_boundary = fn.DirichletBC(V, fn.Constant(outer_phi_eq), boundaries, 2)\n",
    "bcs = [inner_boundary, outer_boundary]"
   ]
  },
  {
   "cell_type": "markdown",
   "metadata": {},
   "source": [
    "## (III - 3) Define pde\n",
    "- Write down the poisson equation to be solved\n",
    "- Rewrite the equation in the variational form\n",
    "- Rescale"
   ]
  },
  {
   "cell_type": "markdown",
   "metadata": {},
   "source": [
    "The Chameleon Field is expressed (in non-relativistic case)\n",
    "$$ \\nabla^2\\phi = V_{\\mathrm{eff},\\phi}$$\n",
    "where\n",
    "$$ V_{\\mathrm{eff}} = V(\\phi) + A(\\phi)\\rho_m$$\n",
    "and\n",
    "$$ \\begin{cases} V(\\phi) = \\Lambda^4\\left(1 + \\frac{\\Lambda^n}{\\phi^n}\\right)\\\\\n",
    "A(\\phi) \\approx 1 + \\frac{\\phi}{M}\\end{cases}$$\n",
    "We take n=1. Then\n",
    "$$ V_{\\mathrm{eff}} = \\Lambda^4\\left(1 + \\frac{\\Lambda}{\\phi}\\right) + \\left(1 + \\frac{\\phi}{M}\\right)\\rho_m$$"
   ]
  },
  {
   "cell_type": "markdown",
   "metadata": {},
   "source": [
    "$$ \\Rightarrow V_{\\mathrm{eff,\\phi}} = -\\frac{\\Lambda^5}{\\phi^2} + \\frac{\\rho_m}{M}$$"
   ]
  },
  {
   "cell_type": "markdown",
   "metadata": {},
   "source": [
    "$$\\Rightarrow -\\nabla^2\\phi = \\frac{\\Lambda^5}{\\phi^2} - \\frac{\\rho_m}{M}$$"
   ]
  },
  {
   "cell_type": "markdown",
   "metadata": {},
   "source": [
    "So the equation to be solved is\n",
    "$$ -\\nabla^2\\phi + \\frac{\\rho_m}{M} = \\frac{\\Lambda^5}{\\phi^2}$$"
   ]
  },
  {
   "cell_type": "markdown",
   "metadata": {},
   "source": [
    "Using the test function $v$, The variational form of pde becomes\n",
    "\n",
    "$$ F \\equiv \\int\\left(\\nabla\\phi \\cdot \\nabla v + \\frac{\\rho_m}{M} v\\right)\\mathrm dx \n",
    "- \\left(\\int\\frac{\\Lambda^5}{\\phi^2}v\\mathrm dx  + \\int gv\\mathrm ds\\right) = 0$$\n",
    "\n",
    "Here $g=0$ and $\\mathrm ds$ are added to satisfy $\\nabla\\phi = 0$ at the boundary ($\\mathrm ds$).\n",
    "To learn about the meaning of this transformation, read Quick Learning Resources.\n",
    "\n",
    "Note that this equation must be evaluated in natural units. We use 1eV as the unit scale."
   ]
  },
  {
   "cell_type": "markdown",
   "metadata": {},
   "source": [
    "In the pde solver, however, the unit of length is \\[mm\\] (or any unit the 3D mesh is initially modeled in.\n",
    "To rescale this equation into the proper unit, we introduce the scaling constant $\\lambda$ so that\n",
    "\n",
    "$$ \\tilde x = \\lambda x$$\n",
    "\n",
    "where $\\lambda = 1.97\\times 10^{-4}$ for $x\\sim\\mathrm{eV}^{-1}$ and $\\tilde x\\sim \\mathrm{mm}$.\n",
    "\n",
    "This gives the rescaled Poisson equation\n",
    "\n",
    "$$ -\\lambda^2\\tilde\\nabla^2\\phi + \\frac{\\rho_m}{M} = \\frac{\\Lambda^5}{\\phi^2},$$\n",
    "\n",
    "Since the units of $\\phi$, $M$, and $\\rho$ do not have to be rescaled as long as they all are in the same unit scale (i.e. natural units).\n",
    "\n",
    "Thus, with $\\mathrm d x = \\lambda^{-1}\\mathrm d\\tilde x$ and \n",
    "$\\mathrm ds = \\lambda^{-1}\\mathrm d\\tilde s$,\n",
    "\n",
    "$$ F \\equiv \\int\\left(\\lambda^2\\tilde\\nabla\\phi \\cdot \\tilde\\nabla v + \\frac{\\rho_m}{M} v\\right)\\lambda^{-1}\\mathrm d\\tilde x \n",
    "- \\left(\\int\\frac{\\Lambda^5}{\\phi^2}v\\lambda^{-1} \\mathrm d\\tilde x  + \\int gv\\mathrm \\lambda^{-1} d\\tilde s\\right) = 0$$\n",
    "\n",
    "is the final form of the pde for Chameleon field."
   ]
  },
  {
   "cell_type": "code",
   "execution_count": 20,
   "metadata": {},
   "outputs": [],
   "source": [
    "scaling = 1.97 * 10**-4"
   ]
  },
  {
   "cell_type": "code",
   "execution_count": 21,
   "metadata": {},
   "outputs": [],
   "source": [
    "# phi = fn.Function(V)\n",
    "phi = fn.project(fn.Constant(1),V)\n",
    "v = fn.TestFunction(V)\n",
    "f = Lambda**5/phi**2 #fn.Constant(Lambda**5)\n",
    "g = fn.Constant(0)\n",
    "\n",
    "a = (fn.inner(fn.grad(phi)*scaling**2,fn.grad(v))+ rho_vacuum*v/M)/scaling*fn.dx\n",
    "L = f*v/scaling*fn.dx + g*v*fn.ds\n",
    "F = a-L"
   ]
  },
  {
   "cell_type": "markdown",
   "metadata": {},
   "source": [
    "## (III - 4): Run"
   ]
  },
  {
   "cell_type": "code",
   "execution_count": 22,
   "metadata": {},
   "outputs": [],
   "source": [
    "# compute solution\n",
    "fn.solve(F==0, phi, bcs)"
   ]
  },
  {
   "cell_type": "markdown",
   "metadata": {},
   "source": [
    "## (III - 5 - i): Extract 1D data (x,0,0)"
   ]
  },
  {
   "cell_type": "code",
   "execution_count": 23,
   "metadata": {},
   "outputs": [],
   "source": [
    "x = np.linspace(10,49.5, 1000)\n",
    "y = np.zeros(len(x))\n",
    "z = np.zeros(len(x))\n",
    "coords = np.dstack((x, y, z))[0]\n",
    "coords2 = np.dstack((-x,y,z))[0]\n",
    "u_line_plus = np.array(list(map(phi, coords)))\n",
    "u_line_minus = np.array(list(map(phi,coords2)))"
   ]
  },
  {
   "cell_type": "code",
   "execution_count": 24,
   "metadata": {},
   "outputs": [
    {
     "data": {
      "image/png": "[encoded data removed]",
      "text/plain": [
       "<Figure size 720x360 with 1 Axes>"
      ]
     },
     "metadata": {},
     "output_type": "display_data"
    }
   ],
   "source": [
    "plt.figure(figsize=(10,5))\n",
    "plt.plot(x,u_line_plus*1000,color='blue')\n",
    "plt.plot(-x,u_line_minus*1000,color='blue')\n",
    "plt.xlabel('r [mm]')\n",
    "plt.ylabel(r'$\\phi [meV]$')\n",
    "plt.title('Simulated Field')\n",
    "plt.axvspan(-10,10,label='sphere',color='orange',alpha=0.2)\n",
    "plt.xlim(-50,50)\n",
    "plt.legend()\n",
    "plt.show()"
   ]
  },
  {
   "cell_type": "code",
   "execution_count": 25,
   "metadata": {},
   "outputs": [],
   "source": [
    "# output the 3D result\n",
    "data3D = fn.File('output/chameleon.pvd')\n",
    "data3D << phi"
   ]
  },
  {
   "cell_type": "markdown",
   "metadata": {},
   "source": [
    "## (III - 5 - ii): 3D plot: Paraview\n",
    "- ```$paraview``` and then use GUI. Python pipeline is available, but it's too much work."
   ]
  },
  {
   "cell_type": "markdown",
   "metadata": {},
   "source": [
    "![](output/output2.png)"
   ]
  },
  {
   "cell_type": "markdown",
   "metadata": {},
   "source": [
    "# (IV) Repeat without inner sphere"
   ]
  },
  {
   "cell_type": "markdown",
   "metadata": {},
   "source": [
    "## (IV - 1) Run simulation"
   ]
  },
  {
   "cell_type": "code",
   "execution_count": 26,
   "metadata": {},
   "outputs": [],
   "source": [
    "# Import the mesh\n",
    "mesh       = fn.Mesh('models/sphere2.xml')\n",
    "markers    = fn.MeshFunction(\"size_t\", mesh, 'models/sphere2_physical_region.xml')\n",
    "boundaries = fn.MeshFunction('size_t', mesh, 'models/sphere2_facet_region.xml')\n",
    "dx = fn.Measure('dx', domain=mesh, subdomain_data=markers)\n",
    "V = fn.FunctionSpace(mesh, 'CG', 1)"
   ]
  },
  {
   "cell_type": "code",
   "execution_count": 27,
   "metadata": {},
   "outputs": [],
   "source": [
    "# Set the boundary conditions \n",
    "outer_phi_eq = np.sqrt(Lambda**5 * M / rho_outer)\n",
    "outer_boundary = fn.DirichletBC(V, fn.Constant(outer_phi_eq), boundaries, 1)\n",
    "bcs = outer_boundary"
   ]
  },
  {
   "cell_type": "code",
   "execution_count": 28,
   "metadata": {},
   "outputs": [],
   "source": [
    "# phi = fn.Function(V)\n",
    "phi = fn.project(fn.Constant(1),V)\n",
    "v = fn.TestFunction(V)\n",
    "f = Lambda**5/phi**2\n",
    "g = fn.Constant(0)\n",
    "a = (fn.inner(fn.grad(phi)*scaling**2,fn.grad(v))+ rho_vacuum*v/M)/scaling*fn.dx\n",
    "L = f*v/scaling*fn.dx + g*v*fn.ds\n",
    "F = a-L"
   ]
  },
  {
   "cell_type": "code",
   "execution_count": 29,
   "metadata": {},
   "outputs": [],
   "source": [
    "# compute solution\n",
    "fn.solve(F==0, phi, bcs)"
   ]
  },
  {
   "cell_type": "code",
   "execution_count": 31,
   "metadata": {},
   "outputs": [],
   "source": [
    "data3D = fn.File('output/empty_sphere.pvd')\n",
    "data3D << phi"
   ]
  },
  {
   "cell_type": "markdown",
   "metadata": {},
   "source": [
    "## (IV - 2) Compare with (III - 5)"
   ]
  },
  {
   "cell_type": "code",
   "execution_count": 32,
   "metadata": {},
   "outputs": [],
   "source": [
    "# extract (x,0,0) data\n",
    "x3 = np.linspace(-49.5,49.5, 1000)\n",
    "y3 = np.zeros(len(x3))\n",
    "z3 = np.zeros(len(x3))\n",
    "coords3 = np.dstack((x3, y3, z3))[0]\n",
    "u_line_3 = np.array(list(map(phi,coords3)))"
   ]
  },
  {
   "cell_type": "code",
   "execution_count": 41,
   "metadata": {},
   "outputs": [
    {
     "data": {
      "image/png": "[encoded data removed]",
      "text/plain": [
       "<Figure size 576x432 with 1 Axes>"
      ]
     },
     "metadata": {},
     "output_type": "display_data"
    }
   ],
   "source": [
    "plt.figure(figsize=(8,6))\n",
    "plt.plot(x3,u_line_3*1000,color='green',label='without sphere')\n",
    "plt.plot(x,u_line_plus*1000,color='red',label='with sphere')\n",
    "plt.plot(-x,u_line_minus*1000,color='red')\n",
    "plt.xlabel('r [mm]')\n",
    "plt.ylabel(r'$\\phi$ [meV]')\n",
    "plt.title('Simulated Field')\n",
    "plt.axvspan(-10,10,label='sphere',color='green',alpha=0.2)\n",
    "plt.xlim(-50,50)\n",
    "plt.ylim(0,0.8)\n",
    "plt.legend(loc='upper left')\n",
    "plt.show()"
   ]
  },
  {
   "cell_type": "markdown",
   "metadata": {},
   "source": [
    "This plot is a replicated model of Figure 4 in [Elder et al. 2015](https://arxiv.org/abs/1603.06587). \n",
    "\n",
    "**It is clear that these two simulations yielded nearly identical results.**\n",
    "\n",
    "![image.png](Figure4_Elder2015.png)"
   ]
  },
  {
   "cell_type": "markdown",
   "metadata": {},
   "source": [
    "# (V) Cylinderical Chamber with offset\n",
    "\n",
    "Now, we use the setup described in Figure 5 in Elder et al. 2015.\n",
    "![](Figure5_Elder2015.png)\n",
    "\n",
    "Note that the value of $\\Lambda$ is different from previous simulation."
   ]
  },
  {
   "cell_type": "code",
   "execution_count": 42,
   "metadata": {},
   "outputs": [],
   "source": [
    "Lambda = 2.4 * 10**-3 # [eV]\n",
    "Mpl    = 2.4 * 10**27 # [eV]\n",
    "M      = 10**-3 * Mpl"
   ]
  },
  {
   "cell_type": "code",
   "execution_count": 43,
   "metadata": {},
   "outputs": [],
   "source": [
    "# Import the mesh, identify the subdomains and boundaries\n",
    "mesh       = fn.Mesh('models/cylinder.xml')\n",
    "markers    = fn.MeshFunction(\"size_t\", mesh, 'models/cylinder_physical_region.xml')\n",
    "boundaries = fn.MeshFunction('size_t', mesh, 'models/cylinder_facet_region.xml')\n",
    "dx = fn.Measure('dx', domain=mesh, subdomain_data=markers)\n",
    "V = fn.FunctionSpace(mesh, 'CG', 1)\n",
    "\n",
    "# Set the boundary conditions using the boundary numbers\n",
    "# specified in Gmsh.\n",
    "inner_phi_eq = np.sqrt(Lambda**5 * M / rho_inner)\n",
    "outer_phi_eq = np.sqrt(Lambda**5 * M / rho_outer)\n",
    "\n",
    "inner_boundary = fn.DirichletBC(V, fn.Constant(inner_phi_eq), boundaries, 1)\n",
    "outer_boundary = fn.DirichletBC(V, fn.Constant(outer_phi_eq), boundaries, 2)\n",
    "bcs = [inner_boundary,outer_boundary]\n",
    "\n",
    "# define pde\n",
    "phi = fn.project(fn.Constant(1),V)\n",
    "v = fn.TestFunction(V)\n",
    "f = Lambda**5/phi**2\n",
    "g = fn.Constant(0)\n",
    "a = (fn.inner(fn.grad(phi)*scaling**2,fn.grad(v))+ rho_vacuum*v/M)/scaling*fn.dx\n",
    "L = f*v/scaling*fn.dx + g*v*fn.ds\n",
    "F = a-L\n",
    "\n",
    "# compute solution\n",
    "fn.solve(F==0, phi, bcs)"
   ]
  },
  {
   "cell_type": "code",
   "execution_count": 44,
   "metadata": {},
   "outputs": [],
   "source": [
    "# output the results to two separate files\n",
    "data3D = fn.File('output/cylinder.pvd')\n",
    "data3D << phi"
   ]
  },
  {
   "cell_type": "markdown",
   "metadata": {},
   "source": [
    "Extract 1D data"
   ]
  },
  {
   "cell_type": "code",
   "execution_count": 71,
   "metadata": {},
   "outputs": [],
   "source": [
    "x = np.linspace(-60.999,16.03, 1000)\n",
    "x2 = np.linspace(34.99,60.999, 1000)\n",
    "y = np.full(len(x),0)\n",
    "z = np.full(len(x),35)\n",
    "coords = np.dstack((x, y, z))[0]\n",
    "coords2 = np.dstack((x2,y,z))[0]\n",
    "u_line_plus = np.array(list(map(phi, coords)))\n",
    "u_line_minus = np.array(list(map(phi,coords2)))"
   ]
  },
  {
   "cell_type": "code",
   "execution_count": 76,
   "metadata": {},
   "outputs": [
    {
     "data": {
      "image/png": "[encoded data removed]",
      "text/plain": [
       "<Figure size 504x504 with 1 Axes>"
      ]
     },
     "metadata": {
      "needs_background": "light"
     },
     "output_type": "display_data"
    }
   ],
   "source": [
    "plt.figure(figsize=(7,7))\n",
    "plt.plot(x,u_line_plus*1000,color='blue')\n",
    "plt.plot(x2,u_line_minus*1000,color='blue')\n",
    "plt.xlabel('r [mm]')\n",
    "plt.ylabel(r'$\\phi [mev]$')\n",
    "plt.title('Simulated Field')\n",
    "plt.axvspan(16,35,label='sphere',color='orange',alpha=0.2)\n",
    "plt.yscale('log')\n",
    "plt.ylim(0.01,1000)\n",
    "plt.legend()\n",
    "ax = plt.gca()\n",
    "ax.invert_xaxis()\n",
    "plt.show()"
   ]
  },
  {
   "cell_type": "markdown",
   "metadata": {},
   "source": [
    "This is a replicated result of Figure 7a in Elder et al. 2015 ('offset').\n",
    "\n",
    "![](Figure7a_Elder2015.png)"
   ]
  },
  {
   "cell_type": "markdown",
   "metadata": {},
   "source": [
    "![](output/cylinder_slice.png)"
   ]
  },
  {
   "cell_type": "code",
   "execution_count": null,
   "metadata": {},
   "outputs": [],
   "source": []
  }
 ],
 "metadata": {
  "kernelspec": {
   "display_name": "Python 3",
   "language": "python",
   "name": "python3"
  },
  "language_info": {
   "codemirror_mode": {
    "name": "ipython",
    "version": 3
   },
   "file_extension": ".py",
   "mimetype": "text/x-python",
   "name": "python",
   "nbconvert_exporter": "python",
   "pygments_lexer": "ipython3",
   "version": "3.7.4"
  }
 },
 "nbformat": 4,
 "nbformat_minor": 2
}
